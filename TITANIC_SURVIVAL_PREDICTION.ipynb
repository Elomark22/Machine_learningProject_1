{
 "cells": [
  {
   "cell_type": "code",
   "execution_count": 14,
   "id": "b13dd5af",
   "metadata": {},
   "outputs": [],
   "source": [
    "import pandas as pd\n",
    "import numpy as np\n",
    "#visualisation\n",
    "import matplotlib.pyplot as plt\n",
    "%matplotlib inline\n",
    "import seaborn as sns\n",
    "\n",
    "from collections import Counter\n",
    "# data preprocessing\n",
    "from sklearn.preprocessing import StandardScaler\n",
    "# data splitting\n",
    "from sklearn.model_selection import train_test_split\n",
    "# data modeling\n",
    "from sklearn.metrics import confusion_matrix,accuracy_score,roc_curve,classification_report\n",
    "from sklearn.linear_model import LogisticRegression\n",
    "from sklearn.naive_bayes import GaussianNB\n",
    "from xgboost import XGBClassifier\n",
    "from sklearn.ensemble import RandomForestClassifier\n",
    "from sklearn.tree import DecisionTreeClassifier\n",
    "from sklearn.neighbors import KNeighborsClassifier\n",
    "from sklearn.naive_bayes import GaussianNB\n",
    "from sklearn.svm import SVC\n",
    "from mlxtend.classifier import StackingCVClassifier"
   ]
  },
  {
   "cell_type": "code",
   "execution_count": 15,
   "id": "fe889083",
   "metadata": {},
   "outputs": [
    {
     "data": {
      "text/html": [
       "<div>\n",
       "<style scoped>\n",
       "    .dataframe tbody tr th:only-of-type {\n",
       "        vertical-align: middle;\n",
       "    }\n",
       "\n",
       "    .dataframe tbody tr th {\n",
       "        vertical-align: top;\n",
       "    }\n",
       "\n",
       "    .dataframe thead th {\n",
       "        text-align: right;\n",
       "    }\n",
       "</style>\n",
       "<table border=\"1\" class=\"dataframe\">\n",
       "  <thead>\n",
       "    <tr style=\"text-align: right;\">\n",
       "      <th></th>\n",
       "      <th>PassengerId</th>\n",
       "      <th>Survived</th>\n",
       "      <th>Pclass</th>\n",
       "      <th>Name</th>\n",
       "      <th>Sex</th>\n",
       "      <th>Age</th>\n",
       "      <th>SibSp</th>\n",
       "      <th>Parch</th>\n",
       "      <th>Ticket</th>\n",
       "      <th>Fare</th>\n",
       "      <th>Cabin</th>\n",
       "      <th>Embarked</th>\n",
       "    </tr>\n",
       "  </thead>\n",
       "  <tbody>\n",
       "    <tr>\n",
       "      <th>0</th>\n",
       "      <td>1</td>\n",
       "      <td>0</td>\n",
       "      <td>3</td>\n",
       "      <td>Braund, Mr. Owen Harris</td>\n",
       "      <td>male</td>\n",
       "      <td>22.0</td>\n",
       "      <td>1</td>\n",
       "      <td>0</td>\n",
       "      <td>A/5 21171</td>\n",
       "      <td>7.2500</td>\n",
       "      <td>NaN</td>\n",
       "      <td>S</td>\n",
       "    </tr>\n",
       "    <tr>\n",
       "      <th>1</th>\n",
       "      <td>2</td>\n",
       "      <td>1</td>\n",
       "      <td>1</td>\n",
       "      <td>Cumings, Mrs. John Bradley (Florence Briggs Th...</td>\n",
       "      <td>female</td>\n",
       "      <td>38.0</td>\n",
       "      <td>1</td>\n",
       "      <td>0</td>\n",
       "      <td>PC 17599</td>\n",
       "      <td>71.2833</td>\n",
       "      <td>C85</td>\n",
       "      <td>C</td>\n",
       "    </tr>\n",
       "    <tr>\n",
       "      <th>2</th>\n",
       "      <td>3</td>\n",
       "      <td>1</td>\n",
       "      <td>3</td>\n",
       "      <td>Heikkinen, Miss. Laina</td>\n",
       "      <td>female</td>\n",
       "      <td>26.0</td>\n",
       "      <td>0</td>\n",
       "      <td>0</td>\n",
       "      <td>STON/O2. 3101282</td>\n",
       "      <td>7.9250</td>\n",
       "      <td>NaN</td>\n",
       "      <td>S</td>\n",
       "    </tr>\n",
       "    <tr>\n",
       "      <th>3</th>\n",
       "      <td>4</td>\n",
       "      <td>1</td>\n",
       "      <td>1</td>\n",
       "      <td>Futrelle, Mrs. Jacques Heath (Lily May Peel)</td>\n",
       "      <td>female</td>\n",
       "      <td>35.0</td>\n",
       "      <td>1</td>\n",
       "      <td>0</td>\n",
       "      <td>113803</td>\n",
       "      <td>53.1000</td>\n",
       "      <td>C123</td>\n",
       "      <td>S</td>\n",
       "    </tr>\n",
       "    <tr>\n",
       "      <th>4</th>\n",
       "      <td>5</td>\n",
       "      <td>0</td>\n",
       "      <td>3</td>\n",
       "      <td>Allen, Mr. William Henry</td>\n",
       "      <td>male</td>\n",
       "      <td>35.0</td>\n",
       "      <td>0</td>\n",
       "      <td>0</td>\n",
       "      <td>373450</td>\n",
       "      <td>8.0500</td>\n",
       "      <td>NaN</td>\n",
       "      <td>S</td>\n",
       "    </tr>\n",
       "  </tbody>\n",
       "</table>\n",
       "</div>"
      ],
      "text/plain": [
       "   PassengerId  Survived  Pclass  \\\n",
       "0            1         0       3   \n",
       "1            2         1       1   \n",
       "2            3         1       3   \n",
       "3            4         1       1   \n",
       "4            5         0       3   \n",
       "\n",
       "                                                Name     Sex   Age  SibSp  \\\n",
       "0                            Braund, Mr. Owen Harris    male  22.0      1   \n",
       "1  Cumings, Mrs. John Bradley (Florence Briggs Th...  female  38.0      1   \n",
       "2                             Heikkinen, Miss. Laina  female  26.0      0   \n",
       "3       Futrelle, Mrs. Jacques Heath (Lily May Peel)  female  35.0      1   \n",
       "4                           Allen, Mr. William Henry    male  35.0      0   \n",
       "\n",
       "   Parch            Ticket     Fare Cabin Embarked  \n",
       "0      0         A/5 21171   7.2500   NaN        S  \n",
       "1      0          PC 17599  71.2833   C85        C  \n",
       "2      0  STON/O2. 3101282   7.9250   NaN        S  \n",
       "3      0            113803  53.1000  C123        S  \n",
       "4      0            373450   8.0500   NaN        S  "
      ]
     },
     "execution_count": 15,
     "metadata": {},
     "output_type": "execute_result"
    }
   ],
   "source": [
    "data = pd.read_csv('titanic.csv')\n",
    "data.head()"
   ]
  },
  {
   "cell_type": "markdown",
   "id": "df41548a",
   "metadata": {},
   "source": [
    "FIRST: I will divide my dataframe into two namely the INDEPENDENT variable and \n",
    "the TARGET varible. My independent variable = inputs: Pclass,sex,age,fare. \n",
    "So i will drop others.My target variable = Survived"
   ]
  },
  {
   "cell_type": "code",
   "execution_count": 16,
   "id": "b837d5a3",
   "metadata": {},
   "outputs": [],
   "source": [
    "inputs = data.drop(['PassengerId','Survived','Name','SibSp','Parch','Ticket','Cabin','Embarked'], axis='columns')\n",
    "target = data['Survived']"
   ]
  },
  {
   "cell_type": "code",
   "execution_count": 17,
   "id": "8d3ee635",
   "metadata": {},
   "outputs": [
    {
     "data": {
      "text/html": [
       "<div>\n",
       "<style scoped>\n",
       "    .dataframe tbody tr th:only-of-type {\n",
       "        vertical-align: middle;\n",
       "    }\n",
       "\n",
       "    .dataframe tbody tr th {\n",
       "        vertical-align: top;\n",
       "    }\n",
       "\n",
       "    .dataframe thead th {\n",
       "        text-align: right;\n",
       "    }\n",
       "</style>\n",
       "<table border=\"1\" class=\"dataframe\">\n",
       "  <thead>\n",
       "    <tr style=\"text-align: right;\">\n",
       "      <th></th>\n",
       "      <th>Pclass</th>\n",
       "      <th>Sex</th>\n",
       "      <th>Age</th>\n",
       "      <th>Fare</th>\n",
       "    </tr>\n",
       "  </thead>\n",
       "  <tbody>\n",
       "    <tr>\n",
       "      <th>0</th>\n",
       "      <td>3</td>\n",
       "      <td>male</td>\n",
       "      <td>22.0</td>\n",
       "      <td>7.2500</td>\n",
       "    </tr>\n",
       "    <tr>\n",
       "      <th>1</th>\n",
       "      <td>1</td>\n",
       "      <td>female</td>\n",
       "      <td>38.0</td>\n",
       "      <td>71.2833</td>\n",
       "    </tr>\n",
       "    <tr>\n",
       "      <th>2</th>\n",
       "      <td>3</td>\n",
       "      <td>female</td>\n",
       "      <td>26.0</td>\n",
       "      <td>7.9250</td>\n",
       "    </tr>\n",
       "    <tr>\n",
       "      <th>3</th>\n",
       "      <td>1</td>\n",
       "      <td>female</td>\n",
       "      <td>35.0</td>\n",
       "      <td>53.1000</td>\n",
       "    </tr>\n",
       "    <tr>\n",
       "      <th>4</th>\n",
       "      <td>3</td>\n",
       "      <td>male</td>\n",
       "      <td>35.0</td>\n",
       "      <td>8.0500</td>\n",
       "    </tr>\n",
       "  </tbody>\n",
       "</table>\n",
       "</div>"
      ],
      "text/plain": [
       "   Pclass     Sex   Age     Fare\n",
       "0       3    male  22.0   7.2500\n",
       "1       1  female  38.0  71.2833\n",
       "2       3  female  26.0   7.9250\n",
       "3       1  female  35.0  53.1000\n",
       "4       3    male  35.0   8.0500"
      ]
     },
     "execution_count": 17,
     "metadata": {},
     "output_type": "execute_result"
    }
   ],
   "source": [
    "inputs.head()"
   ]
  },
  {
   "cell_type": "code",
   "execution_count": 18,
   "id": "f130e71b",
   "metadata": {},
   "outputs": [
    {
     "data": {
      "text/plain": [
       "0    0\n",
       "1    1\n",
       "2    1\n",
       "3    1\n",
       "4    0\n",
       "Name: Survived, dtype: int64"
      ]
     },
     "execution_count": 18,
     "metadata": {},
     "output_type": "execute_result"
    }
   ],
   "source": [
    "target.head()"
   ]
  },
  {
   "cell_type": "markdown",
   "id": "87452688",
   "metadata": {},
   "source": [
    "BUT BECAUSE I CAN WORK WITH STRINGS"
   ]
  },
  {
   "cell_type": "code",
   "execution_count": 19,
   "id": "88edc98c",
   "metadata": {},
   "outputs": [],
   "source": [
    "inputs.Sex = inputs.Sex.map({'male':1,'female':2})"
   ]
  },
  {
   "cell_type": "code",
   "execution_count": 20,
   "id": "d58189b5",
   "metadata": {},
   "outputs": [
    {
     "data": {
      "text/plain": [
       "0      1\n",
       "1      2\n",
       "2      2\n",
       "3      2\n",
       "4      1\n",
       "      ..\n",
       "886    1\n",
       "887    2\n",
       "888    2\n",
       "889    1\n",
       "890    1\n",
       "Name: Sex, Length: 891, dtype: int64"
      ]
     },
     "execution_count": 20,
     "metadata": {},
     "output_type": "execute_result"
    }
   ],
   "source": [
    "inputs.Sex"
   ]
  },
  {
   "cell_type": "markdown",
   "id": "1fd6bfc0",
   "metadata": {},
   "source": [
    "CHECKING FOR NAN VALUES"
   ]
  },
  {
   "cell_type": "code",
   "execution_count": 21,
   "id": "44e17344",
   "metadata": {},
   "outputs": [
    {
     "data": {
      "text/plain": [
       "0    22.0\n",
       "1    38.0\n",
       "2    26.0\n",
       "3    35.0\n",
       "4    35.0\n",
       "5     NaN\n",
       "6    54.0\n",
       "7     2.0\n",
       "8    27.0\n",
       "9    14.0\n",
       "Name: Age, dtype: float64"
      ]
     },
     "execution_count": 21,
     "metadata": {},
     "output_type": "execute_result"
    }
   ],
   "source": [
    "inputs.Age[:10]"
   ]
  },
  {
   "cell_type": "code",
   "execution_count": 25,
   "id": "941955d8",
   "metadata": {},
   "outputs": [
    {
     "data": {
      "text/plain": [
       "0    22.000000\n",
       "1    38.000000\n",
       "2    26.000000\n",
       "3    35.000000\n",
       "4    35.000000\n",
       "5    29.699118\n",
       "6    54.000000\n",
       "7     2.000000\n",
       "8    27.000000\n",
       "9    14.000000\n",
       "Name: Age, dtype: float64"
      ]
     },
     "execution_count": 25,
     "metadata": {},
     "output_type": "execute_result"
    }
   ],
   "source": [
    "inputs.Age = inputs.Age.fillna(inputs.Age.mean())\n",
    "inputs.Age[:10]"
   ]
  },
  {
   "cell_type": "code",
   "execution_count": 30,
   "id": "960182e3",
   "metadata": {},
   "outputs": [
    {
     "data": {
      "text/plain": [
       "0      22.0\n",
       "1      38.0\n",
       "2      26.0\n",
       "3      35.0\n",
       "4      35.0\n",
       "       ... \n",
       "886    27.0\n",
       "887    19.0\n",
       "888    29.7\n",
       "889    26.0\n",
       "890    32.0\n",
       "Name: Age, Length: 891, dtype: float64"
      ]
     },
     "execution_count": 30,
     "metadata": {},
     "output_type": "execute_result"
    }
   ],
   "source": [
    "inputs.Age.round(1)\n"
   ]
  },
  {
   "cell_type": "markdown",
   "id": "edcdb928",
   "metadata": {},
   "source": [
    "To split my dataset"
   ]
  },
  {
   "cell_type": "code",
   "execution_count": 31,
   "id": "fa8c5f96",
   "metadata": {},
   "outputs": [],
   "source": [
    "X_train, X_test, y_train, y_test = train_test_split(inputs, target, test_size=0.20, random_state = 0)"
   ]
  },
  {
   "cell_type": "markdown",
   "id": "f4915a6d",
   "metadata": {},
   "source": [
    "CONFIRM SPLITTING"
   ]
  },
  {
   "cell_type": "code",
   "execution_count": 32,
   "id": "23280775",
   "metadata": {},
   "outputs": [
    {
     "data": {
      "text/plain": [
       "179"
      ]
     },
     "execution_count": 32,
     "metadata": {},
     "output_type": "execute_result"
    }
   ],
   "source": [
    "len(X_test)"
   ]
  },
  {
   "cell_type": "code",
   "execution_count": 33,
   "id": "23bd8bec",
   "metadata": {},
   "outputs": [
    {
     "data": {
      "text/plain": [
       "712"
      ]
     },
     "execution_count": 33,
     "metadata": {},
     "output_type": "execute_result"
    }
   ],
   "source": [
    "len(X_train)"
   ]
  },
  {
   "cell_type": "markdown",
   "id": "2de12afa",
   "metadata": {},
   "source": [
    "SCALING THE DATA FOR BETTER PERFORMANCE"
   ]
  },
  {
   "cell_type": "code",
   "execution_count": 34,
   "id": "f90b1225",
   "metadata": {},
   "outputs": [],
   "source": [
    "scaler = StandardScaler()\n",
    "X_train = scaler.fit_transform(X_train)\n",
    "X_test = scaler.transform(X_test)"
   ]
  },
  {
   "cell_type": "code",
   "execution_count": 35,
   "id": "9238253f",
   "metadata": {},
   "outputs": [
    {
     "data": {
      "text/plain": [
       "array([[ 0.81925059,  1.37207547, -0.00282437, -0.33167904],\n",
       "       [-0.38096838, -0.72882288,  0.09662937, -0.42640542],\n",
       "       [-0.38096838, -0.72882288,  0.09662937,  0.10261958],\n",
       "       ...,\n",
       "       [ 0.81925059, -0.72882288, -0.00282437, -0.48162887],\n",
       "       [ 0.81925059,  1.37207547,  0.47888431, -0.28868112],\n",
       "       [-0.38096838, -0.72882288,  2.31370804,  0.14245584]])"
      ]
     },
     "execution_count": 35,
     "metadata": {},
     "output_type": "execute_result"
    }
   ],
   "source": [
    "X_train"
   ]
  },
  {
   "cell_type": "code",
   "execution_count": 36,
   "id": "f914f110",
   "metadata": {},
   "outputs": [
    {
     "data": {
      "text/plain": [
       "array([[ 8.19250590e-01, -7.28822884e-01, -2.82437263e-03,\n",
       "        -3.47397578e-01],\n",
       "       [ 8.19250590e-01, -7.28822884e-01, -2.82437263e-03,\n",
       "        -4.85287550e-01],\n",
       "       [ 8.19250590e-01, -7.28822884e-01, -1.73819436e+00,\n",
       "        -5.46495998e-02],\n",
       "       [-1.58118735e+00,  1.37207547e+00, -2.82437263e-03,\n",
       "         2.28857574e+00],\n",
       "       [ 8.19250590e-01,  1.37207547e+00, -5.62726079e-02,\n",
       "        -3.31679043e-01],\n",
       "       [-1.58118735e+00, -7.28822884e-01, -2.82437263e-03,\n",
       "        -2.72045392e-02],\n",
       "       [-1.58118735e+00,  1.37207547e+00,  7.84688267e-01,\n",
       "         2.42713238e+00],\n",
       "       [-1.58118735e+00,  1.37207547e+00,  9.66293694e-02,\n",
       "         2.65476071e+00],\n",
       "       [-1.58118735e+00, -7.28822884e-01, -3.62076563e-01,\n",
       "         1.18195896e+00],\n",
       "       [ 8.19250590e-01,  1.37207547e+00, -2.82437263e-03,\n",
       "        -4.91690733e-01],\n",
       "       [ 8.19250590e-01, -7.28822884e-01, -2.85625574e-01,\n",
       "        -4.79215705e-01],\n",
       "       [-3.80968381e-01,  1.37207547e+00,  7.84688267e-01,\n",
       "        -3.76505310e-01],\n",
       "       [ 8.19250590e-01, -7.28822884e-01, -2.82437263e-03,\n",
       "        -4.81295542e-01],\n",
       "       [-3.80968381e-01,  1.37207547e+00, -1.73819436e+00,\n",
       "        -1.12034726e-01],\n",
       "       [-1.58118735e+00,  1.37207547e+00, -4.38527551e-01,\n",
       "         1.02385745e+00],\n",
       "       [ 8.19250590e-01,  1.37207547e+00, -1.20303744e+00,\n",
       "        -4.79215705e-01],\n",
       "       [ 8.19250590e-01, -7.28822884e-01, -5.14978540e-01,\n",
       "        -4.51854477e-01],\n",
       "       [-3.80968381e-01, -7.28822884e-01, -8.20782494e-01,\n",
       "         9.75457361e-02],\n",
       "       [ 8.19250590e-01, -7.28822884e-01,  4.02433324e-01,\n",
       "        -4.75307528e-01],\n",
       "       [ 8.19250590e-01, -7.28822884e-01, -2.24124186e+00,\n",
       "        -4.65992176e-01],\n",
       "       [-3.80968381e-01, -7.28822884e-01, -8.97233483e-01,\n",
       "        -4.06445376e-01],\n",
       "       [-1.58118735e+00,  1.37207547e+00, -5.91429528e-01,\n",
       "         2.38895879e+00],\n",
       "       [ 8.19250590e-01, -7.28822884e-01, -2.82437263e-03,\n",
       "        -4.81545042e-01],\n",
       "       [-1.58118735e+00, -7.28822884e-01, -2.82437263e-03,\n",
       "        -1.72245172e-02],\n",
       "       [ 8.19250590e-01,  1.37207547e+00, -5.91429528e-01,\n",
       "        -4.39628950e-01],\n",
       "       [-1.58118735e+00,  1.37207547e+00,  7.84688267e-01,\n",
       "         2.04864004e+00],\n",
       "       [ 8.19250590e-01, -7.28822884e-01,  1.73080358e-01,\n",
       "        -4.78385367e-01],\n",
       "       [ 8.19250590e-01,  1.37207547e+00, -5.91429528e-01,\n",
       "        -4.81295542e-01],\n",
       "       [-3.80968381e-01,  1.37207547e+00, -3.62076563e-01,\n",
       "        -1.17024738e-01],\n",
       "       [ 8.19250590e-01,  1.37207547e+00, -2.12044930e+00,\n",
       "        -7.91006538e-02],\n",
       "       [ 8.19250590e-01, -7.28822884e-01,  2.49531347e-01,\n",
       "        -4.63082001e-01],\n",
       "       [-3.80968381e-01,  1.37207547e+00,  1.54919815e+00,\n",
       "        -4.26405420e-01],\n",
       "       [ 8.19250590e-01, -7.28822884e-01, -1.32723597e-01,\n",
       "        -4.46365464e-01],\n",
       "       [-1.58118735e+00, -7.28822884e-01, -2.82437263e-03,\n",
       "         7.25956810e-02],\n",
       "       [ 8.19250590e-01, -7.28822884e-01, -5.62726079e-02,\n",
       "        -4.95351405e-01],\n",
       "       [-1.58118735e+00, -7.28822884e-01,  1.73080358e-01,\n",
       "        -2.72045392e-02],\n",
       "       [ 8.19250590e-01, -7.28822884e-01,  1.01404123e+00,\n",
       "        -5.07243599e-01],\n",
       "       [-3.80968381e-01, -7.28822884e-01, -1.32723597e-01,\n",
       "        -4.26405420e-01],\n",
       "       [-3.80968381e-01, -7.28822884e-01, -3.62076563e-01,\n",
       "        -3.76505310e-01],\n",
       "       [-3.80968381e-01, -7.28822884e-01,  1.85500211e+00,\n",
       "        -3.56545266e-01],\n",
       "       [-1.58118735e+00, -7.28822884e-01,  2.31370804e+00,\n",
       "         9.44849606e-01],\n",
       "       [ 8.19250590e-01, -7.28822884e-01, -3.62076563e-01,\n",
       "        -4.91774565e-01],\n",
       "       [ 8.19250590e-01, -7.28822884e-01, -2.82437263e-03,\n",
       "        -3.46565244e-01],\n",
       "       [ 8.19250590e-01, -7.28822884e-01, -1.20303744e+00,\n",
       "         1.56178366e-01],\n",
       "       [-1.58118735e+00,  1.37207547e+00,  4.02433324e-01,\n",
       "         1.03017879e+00],\n",
       "       [ 8.19250590e-01, -7.28822884e-01, -2.82437263e-03,\n",
       "        -4.78385367e-01],\n",
       "       [ 8.19250590e-01, -7.28822884e-01, -2.82437263e-03,\n",
       "        -4.78385367e-01],\n",
       "       [-1.58118735e+00,  1.37207547e+00, -8.97233483e-01,\n",
       "         4.60103068e+00],\n",
       "       [-3.80968381e-01, -7.28822884e-01,  7.08237279e-01,\n",
       "        -3.76505310e-01],\n",
       "       [-1.58118735e+00, -7.28822884e-01,  1.70210013e+00,\n",
       "         9.53831626e-01],\n",
       "       [-1.58118735e+00, -7.28822884e-01, -2.82437263e-03,\n",
       "        -3.71845613e-02],\n",
       "       [-1.58118735e+00, -7.28822884e-01, -5.14978540e-01,\n",
       "         6.28648576e-01],\n",
       "       [-3.80968381e-01,  1.37207547e+00, -1.96754732e+00,\n",
       "        -1.76904870e-01],\n",
       "       [ 8.19250590e-01, -7.28822884e-01, -8.20782494e-01,\n",
       "        -4.78385367e-01],\n",
       "       [-1.58118735e+00, -7.28822884e-01, -2.82437263e-03,\n",
       "        -4.31725745e-02],\n",
       "       [-3.80968381e-01, -7.28822884e-01, -4.38527551e-01,\n",
       "         8.31077355e-01],\n",
       "       [-1.58118735e+00, -7.28822884e-01,  2.46661002e+00,\n",
       "        -1.06046713e-01],\n",
       "       [ 8.19250590e-01,  1.37207547e+00, -1.43239040e+00,\n",
       "        -1.17355051e-02],\n",
       "       [ 8.19250590e-01, -7.28822884e-01, -1.50884139e+00,\n",
       "        -7.91006538e-02],\n",
       "       [ 8.19250590e-01, -7.28822884e-01, -2.82437263e-03,\n",
       "        -1.71914859e-01],\n",
       "       [ 8.19250590e-01, -7.28822884e-01, -5.91429528e-01,\n",
       "        -4.91690733e-01],\n",
       "       [ 8.19250590e-01,  1.37207547e+00, -5.62726079e-02,\n",
       "        -2.15327954e-01],\n",
       "       [-1.58118735e+00,  1.37207547e+00,  1.85500211e+00,\n",
       "         9.26220897e-01],\n",
       "       [-1.58118735e+00, -7.28822884e-01, -2.82437263e-03,\n",
       "         1.54431862e-01],\n",
       "       [ 8.19250590e-01,  1.37207547e+00, -2.09174585e-01,\n",
       "        -4.13764725e-01],\n",
       "       [ 8.19250590e-01, -7.28822884e-01,  1.73080358e-01,\n",
       "        -4.81295542e-01],\n",
       "       [-1.58118735e+00,  1.37207547e+00,  1.47274717e+00,\n",
       "        -1.18437909e-01],\n",
       "       [-3.80968381e-01, -7.28822884e-01, -1.32723597e-01,\n",
       "         2.26955709e-02],\n",
       "       [-3.80968381e-01,  1.37207547e+00, -2.12044930e+00,\n",
       "        -1.17024738e-01],\n",
       "       [-1.58118735e+00,  1.37207547e+00, -8.20782494e-01,\n",
       "        -3.71845613e-02],\n",
       "       [-3.80968381e-01,  1.37207547e+00, -4.38527551e-01,\n",
       "        -1.17024738e-01],\n",
       "       [-1.58118735e+00, -7.28822884e-01,  1.39629618e+00,\n",
       "         4.01936408e-01],\n",
       "       [-1.58118735e+00, -7.28822884e-01, -1.32723597e-01,\n",
       "         1.00414691e+00],\n",
       "       [ 8.19250590e-01, -7.28822884e-01, -2.82437263e-03,\n",
       "        -4.75307528e-01],\n",
       "       [ 8.19250590e-01, -7.28822884e-01, -4.00302057e-01,\n",
       "        -4.75307528e-01],\n",
       "       [-3.80968381e-01,  1.37207547e+00,  2.01783807e-02,\n",
       "        -2.16824958e-01],\n",
       "       [-1.58118735e+00, -7.28822884e-01, -8.20782494e-01,\n",
       "         4.61350570e+00],\n",
       "       [-1.58118735e+00, -7.28822884e-01,  7.84688267e-01,\n",
       "        -8.26774937e-02],\n",
       "       [ 8.19250590e-01, -7.28822884e-01,  3.25982335e-01,\n",
       "        -5.06329429e-01],\n",
       "       [-3.80968381e-01, -7.28822884e-01, -2.82437263e-03,\n",
       "        -3.35587220e-01],\n",
       "       [ 8.19250590e-01, -7.28822884e-01, -2.82437263e-03,\n",
       "        -1.53950819e-01],\n",
       "       [ 8.19250590e-01, -7.28822884e-01, -1.58529238e+00,\n",
       "        -3.18621183e-01],\n",
       "       [-3.80968381e-01,  1.37207547e+00, -2.85625574e-01,\n",
       "        -1.17024738e-01],\n",
       "       [ 8.19250590e-01, -7.28822884e-01, -1.05013546e+00,\n",
       "        -4.80796540e-01],\n",
       "       [-3.80968381e-01, -7.28822884e-01,  1.24339420e+00,\n",
       "        -1.17024738e-01],\n",
       "       [-1.58118735e+00,  1.37207547e+00, -6.67880517e-01,\n",
       "         9.20065220e-01],\n",
       "       [-1.58118735e+00,  1.37207547e+00,  9.37590244e-01,\n",
       "         3.90542314e+00],\n",
       "       [ 8.19250590e-01,  1.37207547e+00,  2.54306101e+00,\n",
       "        -4.44618961e-01],\n",
       "       [-3.80968381e-01,  1.37207547e+00,  3.25982335e-01,\n",
       "        -4.26405420e-01],\n",
       "       [-1.58118735e+00, -7.28822884e-01, -8.97233483e-01,\n",
       "         1.53766291e+00],\n",
       "       [-1.58118735e+00, -7.28822884e-01, -2.82437263e-03,\n",
       "        -6.35985883e-01],\n",
       "       [ 8.19250590e-01, -7.28822884e-01, -8.20782494e-01,\n",
       "        -4.78385367e-01],\n",
       "       [-3.80968381e-01, -7.28822884e-01, -2.04399831e+00,\n",
       "        -1.17024738e-01],\n",
       "       [-1.58118735e+00,  1.37207547e+00,  1.09049222e+00,\n",
       "         5.21281503e-01],\n",
       "       [ 8.19250590e-01,  1.37207547e+00, -1.58529238e+00,\n",
       "        -7.91006538e-02],\n",
       "       [ 8.19250590e-01, -7.28822884e-01, -2.82437263e-03,\n",
       "        -4.91690733e-01],\n",
       "       [-3.80968381e-01,  1.37207547e+00, -4.38527551e-01,\n",
       "        -3.46565244e-01],\n",
       "       [ 8.19250590e-01, -7.28822884e-01, -1.05013546e+00,\n",
       "         1.56178366e-01],\n",
       "       [-1.58118735e+00, -7.28822884e-01,  2.31370804e+00,\n",
       "        -1.06046713e-01],\n",
       "       [-1.58118735e+00, -7.28822884e-01, -2.09174585e-01,\n",
       "         8.95532330e-01],\n",
       "       [ 8.19250590e-01, -7.28822884e-01, -1.20303744e+00,\n",
       "         3.00140183e-01],\n",
       "       [-3.80968381e-01, -7.28822884e-01,  1.85500211e+00,\n",
       "        -1.17024738e-01],\n",
       "       [ 8.19250590e-01, -7.28822884e-01, -8.20782494e-01,\n",
       "        -4.83291546e-01],\n",
       "       [ 8.19250590e-01, -7.28822884e-01, -8.97233483e-01,\n",
       "        -4.79215705e-01],\n",
       "       [ 8.19250590e-01,  1.37207547e+00, -5.62726079e-02,\n",
       "        -4.27153922e-01],\n",
       "       [ 8.19250590e-01,  1.37207547e+00,  4.02433324e-01,\n",
       "        -2.31794991e-01],\n",
       "       [-3.80968381e-01,  1.37207547e+00, -1.32723597e-01,\n",
       "        -3.83491326e-01],\n",
       "       [ 8.19250590e-01,  1.37207547e+00,  8.61139256e-01,\n",
       "         1.56178366e-01],\n",
       "       [-3.80968381e-01, -7.28822884e-01, -3.62076563e-01,\n",
       "        -1.17024738e-01],\n",
       "       [ 8.19250590e-01,  1.37207547e+00, -2.82437263e-03,\n",
       "        -3.26605200e-01],\n",
       "       [ 8.19250590e-01, -7.28822884e-01,  1.39629618e+00,\n",
       "        -4.79215705e-01],\n",
       "       [-1.58118735e+00,  1.37207547e+00, -5.91429528e-01,\n",
       "         4.61816540e-01],\n",
       "       [ 8.19250590e-01, -7.28822884e-01,  1.73080358e-01,\n",
       "         4.91672774e-01],\n",
       "       [ 8.19250590e-01,  1.37207547e+00, -2.82437263e-03,\n",
       "        -4.75307528e-01],\n",
       "       [-1.58118735e+00, -7.28822884e-01,  4.78884313e-01,\n",
       "         1.75921940e+00],\n",
       "       [-3.80968381e-01,  1.37207547e+00, -1.32723597e-01,\n",
       "        -3.76505310e-01],\n",
       "       [ 8.19250590e-01,  1.37207547e+00, -4.38527551e-01,\n",
       "        -3.19619185e-01],\n",
       "       [-1.58118735e+00,  1.37207547e+00, -8.97233483e-01,\n",
       "         3.90542314e+00],\n",
       "       [ 8.19250590e-01, -7.28822884e-01,  7.84688267e-01,\n",
       "        -4.78385367e-01],\n",
       "       [-3.80968381e-01,  1.37207547e+00,  1.16694321e+00,\n",
       "        -1.12034726e-01],\n",
       "       [ 8.19250590e-01, -7.28822884e-01, -2.82437263e-03,\n",
       "         4.91672774e-01],\n",
       "       [ 8.19250590e-01, -7.28822884e-01, -2.82437263e-03,\n",
       "        -4.67157842e-01],\n",
       "       [ 8.19250590e-01, -7.28822884e-01, -7.44331506e-01,\n",
       "        -4.63082001e-01],\n",
       "       [-1.58118735e+00, -7.28822884e-01,  6.31786290e-01,\n",
       "        -6.35985883e-01],\n",
       "       [ 8.19250590e-01, -7.28822884e-01,  2.49531347e-01,\n",
       "        -4.63247670e-01],\n",
       "       [-1.58118735e+00, -7.28822884e-01,  2.16080606e+00,\n",
       "        -4.31725745e-02],\n",
       "       [ 8.19250590e-01, -7.28822884e-01, -2.82437263e-03,\n",
       "        -4.91774565e-01],\n",
       "       [ 8.19250590e-01, -7.28822884e-01, -3.62076563e-01,\n",
       "        -4.80796540e-01],\n",
       "       [-3.80968381e-01, -7.28822884e-01, -2.82437263e-03,\n",
       "        -6.35985883e-01],\n",
       "       [-3.80968381e-01, -7.28822884e-01,  1.62564914e+00,\n",
       "        -3.85986331e-01],\n",
       "       [ 8.19250590e-01,  1.37207547e+00, -6.67880517e-01,\n",
       "        -4.81295542e-01],\n",
       "       [ 8.19250590e-01, -7.28822884e-01, -6.67880517e-01,\n",
       "        -4.75307528e-01],\n",
       "       [ 8.19250590e-01, -7.28822884e-01, -3.62076563e-01,\n",
       "        -4.95267572e-01],\n",
       "       [ 8.19250590e-01,  1.37207547e+00, -7.44331506e-01,\n",
       "        -4.39878450e-01],\n",
       "       [-1.58118735e+00, -7.28822884e-01,  2.61951199e+00,\n",
       "        -1.17024738e-01],\n",
       "       [ 8.19250590e-01, -7.28822884e-01, -6.67880517e-01,\n",
       "        -4.75307528e-01],\n",
       "       [ 8.19250590e-01, -7.28822884e-01, -2.82437263e-03,\n",
       "        -4.81295542e-01],\n",
       "       [ 8.19250590e-01,  1.37207547e+00,  7.84688267e-01,\n",
       "        -4.46864466e-01],\n",
       "       [-3.80968381e-01, -7.28822884e-01,  1.09049222e+00,\n",
       "        -1.17024738e-01],\n",
       "       [-3.80968381e-01, -7.28822884e-01, -5.14978540e-01,\n",
       "        -3.76505310e-01],\n",
       "       [-3.80968381e-01, -7.28822884e-01, -1.32723597e-01,\n",
       "        -3.76505310e-01],\n",
       "       [-1.58118735e+00,  1.37207547e+00,  2.49531347e-01,\n",
       "         1.16041808e+00],\n",
       "       [ 8.19250590e-01, -7.28822884e-01, -2.82437263e-03,\n",
       "        -4.75307528e-01],\n",
       "       [ 8.19250590e-01,  1.37207547e+00, -8.97233483e-01,\n",
       "        -5.01255586e-01],\n",
       "       [-3.80968381e-01,  1.37207547e+00, -2.82437263e-03,\n",
       "         2.26955709e-02],\n",
       "       [ 8.19250590e-01,  1.37207547e+00, -4.38527551e-01,\n",
       "        -4.59339493e-01],\n",
       "       [-3.80968381e-01, -7.28822884e-01,  2.01783807e-02,\n",
       "        -3.76505310e-01],\n",
       "       [-3.80968381e-01,  1.37207547e+00,  9.37590244e-01,\n",
       "        -1.17024738e-01],\n",
       "       [-1.58118735e+00,  1.37207547e+00,  1.54919815e+00,\n",
       "         4.30454019e+00],\n",
       "       [ 8.19250590e-01, -7.28822884e-01, -2.82437263e-03,\n",
       "        -4.63082001e-01],\n",
       "       [-1.58118735e+00, -7.28822884e-01,  1.16694321e+00,\n",
       "         1.03017879e+00],\n",
       "       [ 8.19250590e-01,  1.37207547e+00,  2.01783807e-02,\n",
       "        -3.86984333e-01],\n",
       "       [ 8.19250590e-01,  1.37207547e+00,  5.55335301e-01,\n",
       "        -4.44618961e-01],\n",
       "       [ 8.19250590e-01, -7.28822884e-01, -5.62726079e-02,\n",
       "        -4.80796540e-01],\n",
       "       [-3.80968381e-01,  1.37207547e+00, -9.73684472e-01,\n",
       "        -3.96465354e-01],\n",
       "       [-3.80968381e-01, -7.28822884e-01, -2.85625574e-01,\n",
       "        -4.26405420e-01],\n",
       "       [ 8.19250590e-01,  1.37207547e+00,  1.16694321e+00,\n",
       "        -3.47479414e-01],\n",
       "       [-3.80968381e-01, -7.28822884e-01,  2.46661002e+00,\n",
       "        -4.26405420e-01],\n",
       "       [ 8.19250590e-01,  1.37207547e+00, -2.82437263e-03,\n",
       "        -4.81295542e-01],\n",
       "       [ 8.19250590e-01,  1.37207547e+00, -2.21601304e+00,\n",
       "        -2.51589367e-01],\n",
       "       [ 8.19250590e-01, -7.28822884e-01, -2.82437263e-03,\n",
       "        -4.78385367e-01],\n",
       "       [ 8.19250590e-01, -7.28822884e-01, -7.44331506e-01,\n",
       "        -4.91690733e-01],\n",
       "       [-1.58118735e+00,  1.37207547e+00,  1.85500211e+00,\n",
       "         5.49640734e-01],\n",
       "       [ 8.19250590e-01,  1.37207547e+00,  2.49531347e-01,\n",
       "        -3.19619185e-01],\n",
       "       [ 8.19250590e-01, -7.28822884e-01, -1.12658645e+00,\n",
       "        -4.91690733e-01],\n",
       "       [ 8.19250590e-01, -7.28822884e-01, -3.62076563e-01,\n",
       "        -4.83291546e-01],\n",
       "       [ 8.19250590e-01, -7.28822884e-01,  1.62564914e+00,\n",
       "        -4.95183740e-01],\n",
       "       [ 8.19250590e-01, -7.28822884e-01, -5.91429528e-01,\n",
       "        -4.80381372e-01],\n",
       "       [ 8.19250590e-01, -7.28822884e-01, -4.38527551e-01,\n",
       "        -4.78385367e-01],\n",
       "       [ 8.19250590e-01, -7.28822884e-01, -9.73684472e-01,\n",
       "        -4.63082001e-01],\n",
       "       [ 8.19250590e-01, -7.28822884e-01,  1.62564914e+00,\n",
       "        -4.75307528e-01],\n",
       "       [-1.58118735e+00,  1.37207547e+00,  6.31786290e-01,\n",
       "         7.86831926e-01],\n",
       "       [ 8.19250590e-01, -7.28822884e-01, -2.82437263e-03,\n",
       "        -4.91275564e-01],\n",
       "       [ 8.19250590e-01, -7.28822884e-01, -2.82437263e-03,\n",
       "        -3.46565244e-01],\n",
       "       [ 8.19250590e-01,  1.37207547e+00, -1.27948843e+00,\n",
       "        -4.91690733e-01],\n",
       "       [ 8.19250590e-01, -7.28822884e-01, -2.82437263e-03,\n",
       "        -4.75307528e-01],\n",
       "       [-1.58118735e+00,  1.37207547e+00,  9.66293694e-02,\n",
       "         1.62498811e+00],\n",
       "       [ 8.19250590e-01, -7.28822884e-01, -5.14978540e-01,\n",
       "        -4.79215705e-01],\n",
       "       [ 8.19250590e-01, -7.28822884e-01, -8.20782494e-01,\n",
       "        -4.75307528e-01]])"
      ]
     },
     "execution_count": 36,
     "metadata": {},
     "output_type": "execute_result"
    }
   ],
   "source": [
    "X_test"
   ]
  },
  {
   "cell_type": "markdown",
   "id": "9a90565a",
   "metadata": {},
   "source": [
    "### USING DIFFERENT MACHINE LEARNING ALGORITHM TO KNOW WHICH PREDICT MOST ACURATELY"
   ]
  },
  {
   "cell_type": "markdown",
   "id": "be78471b",
   "metadata": {},
   "source": [
    "First with Logistic Regression algorithm"
   ]
  },
  {
   "cell_type": "code",
   "execution_count": 37,
   "id": "678f0d69",
   "metadata": {},
   "outputs": [
    {
     "name": "stdout",
     "output_type": "stream",
     "text": [
      "confussion matrix\n",
      "[[93 17]\n",
      " [18 51]]\n",
      "\n",
      "\n",
      "Accuracy of Logistic Regression: 80.44692737430168 \n",
      "\n",
      "              precision    recall  f1-score   support\n",
      "\n",
      "           0       0.84      0.85      0.84       110\n",
      "           1       0.75      0.74      0.74        69\n",
      "\n",
      "    accuracy                           0.80       179\n",
      "   macro avg       0.79      0.79      0.79       179\n",
      "weighted avg       0.80      0.80      0.80       179\n",
      "\n"
     ]
    }
   ],
   "source": [
    "lr = LogisticRegression()\n",
    "model = lr.fit(X_train, y_train)\n",
    "lr_predict = lr.predict(X_test)\n",
    "lr_conf_matrix = confusion_matrix(y_test, lr_predict)\n",
    "lr_acc_score = accuracy_score(y_test, lr_predict)\n",
    "print(\"confussion matrix\")\n",
    "print(lr_conf_matrix)\n",
    "print(\"\\n\")\n",
    "print(\"Accuracy of Logistic Regression:\",lr_acc_score*100,'\\n')\n",
    "print(classification_report(y_test,lr_predict))"
   ]
  },
  {
   "cell_type": "markdown",
   "id": "18ec9834",
   "metadata": {},
   "source": [
    "WITH HEATMAP BETTER VISUALIZATION"
   ]
  },
  {
   "cell_type": "code",
   "execution_count": 38,
   "id": "c62a9adc",
   "metadata": {},
   "outputs": [
    {
     "data": {
      "text/plain": [
       "Text(15.0, 0.5, 'Truth')"
      ]
     },
     "execution_count": 38,
     "metadata": {},
     "output_type": "execute_result"
    },
    {
     "data": {
      "image/png": "[encoded data removed]",
      "text/plain": [
       "<Figure size 288x144 with 2 Axes>"
      ]
     },
     "metadata": {
      "needs_background": "light"
     },
     "output_type": "display_data"
    }
   ],
   "source": [
    "plt.figure(figsize=(4,2))\n",
    "sns.heatmap(lr_conf_matrix, annot=True)\n",
    "plt.xlabel('Predicted')\n",
    "plt.ylabel('Truth')"
   ]
  },
  {
   "cell_type": "markdown",
   "id": "7b0f6ccc",
   "metadata": {},
   "source": [
    "Secondly with Naive Bayes algorithm"
   ]
  },
  {
   "cell_type": "code",
   "execution_count": 39,
   "id": "da5db971",
   "metadata": {},
   "outputs": [
    {
     "name": "stdout",
     "output_type": "stream",
     "text": [
      "confussion matrix\n",
      "[[87 23]\n",
      " [16 53]]\n",
      "\n",
      "\n",
      "Accuracy of Naive Bayes model: 78.2122905027933 \n",
      "\n",
      "              precision    recall  f1-score   support\n",
      "\n",
      "           0       0.84      0.79      0.82       110\n",
      "           1       0.70      0.77      0.73        69\n",
      "\n",
      "    accuracy                           0.78       179\n",
      "   macro avg       0.77      0.78      0.77       179\n",
      "weighted avg       0.79      0.78      0.78       179\n",
      "\n"
     ]
    }
   ],
   "source": [
    "nb = GaussianNB()\n",
    "nb.fit(X_train,y_train)\n",
    "nbpred = nb.predict(X_test)\n",
    "nb_conf_matrix = confusion_matrix(y_test, nbpred)\n",
    "nb_acc_score = accuracy_score(y_test, nbpred)\n",
    "print(\"confussion matrix\")\n",
    "print(nb_conf_matrix)\n",
    "print(\"\\n\")\n",
    "print(\"Accuracy of Naive Bayes model:\",nb_acc_score*100,'\\n')\n",
    "print(classification_report(y_test,nbpred))"
   ]
  },
  {
   "cell_type": "markdown",
   "id": "68848795",
   "metadata": {},
   "source": [
    "WITH HEATMAP BETTER VISUALIZATION"
   ]
  },
  {
   "cell_type": "code",
   "execution_count": 40,
   "id": "2e136e1e",
   "metadata": {},
   "outputs": [
    {
     "data": {
      "text/plain": [
       "Text(15.0, 0.5, 'Truth')"
      ]
     },
     "execution_count": 40,
     "metadata": {},
     "output_type": "execute_result"
    },
    {
     "data": {
      "image/png": "[encoded data removed]",
      "text/plain": [
       "<Figure size 288x144 with 2 Axes>"
      ]
     },
     "metadata": {
      "needs_background": "light"
     },
     "output_type": "display_data"
    }
   ],
   "source": [
    "plt.figure(figsize=(4,2))\n",
    "sns.heatmap(nb_conf_matrix, annot=True)\n",
    "plt.xlabel('Predicted')\n",
    "plt.ylabel('Truth')"
   ]
  },
  {
   "cell_type": "markdown",
   "id": "35769b81",
   "metadata": {},
   "source": [
    "Third algorithm is the Random Forest Classfier"
   ]
  },
  {
   "cell_type": "code",
   "execution_count": 41,
   "id": "462bf3f1",
   "metadata": {},
   "outputs": [
    {
     "name": "stdout",
     "output_type": "stream",
     "text": [
      "confussion matrix\n",
      "[[105   5]\n",
      " [ 26  43]]\n",
      "\n",
      "\n",
      "Accuracy of Random Forest: 82.68156424581005 \n",
      "\n",
      "              precision    recall  f1-score   support\n",
      "\n",
      "           0       0.80      0.95      0.87       110\n",
      "           1       0.90      0.62      0.74        69\n",
      "\n",
      "    accuracy                           0.83       179\n",
      "   macro avg       0.85      0.79      0.80       179\n",
      "weighted avg       0.84      0.83      0.82       179\n",
      "\n"
     ]
    }
   ],
   "source": [
    "m3 = 'Random Forest Classfier'\n",
    "rf = RandomForestClassifier(n_estimators=20, random_state=12,max_depth=5)\n",
    "rf.fit(X_train,y_train)\n",
    "rf_predicted = rf.predict(X_test)\n",
    "rf_conf_matrix = confusion_matrix(y_test, rf_predicted)\n",
    "rf_acc_score = accuracy_score(y_test, rf_predicted)\n",
    "print(\"confussion matrix\")\n",
    "print(rf_conf_matrix)\n",
    "print(\"\\n\")\n",
    "print(\"Accuracy of Random Forest:\",rf_acc_score*100,'\\n')\n",
    "print(classification_report(y_test,rf_predicted))"
   ]
  },
  {
   "cell_type": "markdown",
   "id": "428a5d14",
   "metadata": {},
   "source": [
    "WITH HEATMAP BETTER VISUALIZATION"
   ]
  },
  {
   "cell_type": "code",
   "execution_count": 44,
   "id": "34f2a9a9",
   "metadata": {},
   "outputs": [
    {
     "data": {
      "text/plain": [
       "Text(15.0, 0.5, 'Truth')"
      ]
     },
     "execution_count": 44,
     "metadata": {},
     "output_type": "execute_result"
    },
    {
     "data": {
      "image/png": "[encoded data removed]",
      "text/plain": [
       "<Figure size 288x144 with 2 Axes>"
      ]
     },
     "metadata": {
      "needs_background": "light"
     },
     "output_type": "display_data"
    }
   ],
   "source": [
    "plt.figure(figsize=(4,2))\n",
    "sns.heatmap(rf_conf_matrix, annot=True)\n",
    "plt.xlabel('Predicted')\n",
    "plt.ylabel('Truth')"
   ]
  },
  {
   "cell_type": "markdown",
   "id": "00430a1c",
   "metadata": {},
   "source": [
    "With K-NeighborsClassifier"
   ]
  },
  {
   "cell_type": "code",
   "execution_count": 47,
   "id": "abd7f8e5",
   "metadata": {},
   "outputs": [
    {
     "name": "stdout",
     "output_type": "stream",
     "text": [
      "confussion matrix\n",
      "[[97 13]\n",
      " [27 42]]\n",
      "\n",
      "\n",
      "Accuracy of K-NeighborsClassifier: 77.6536312849162 \n",
      "\n",
      "              precision    recall  f1-score   support\n",
      "\n",
      "           0       0.78      0.88      0.83       110\n",
      "           1       0.76      0.61      0.68        69\n",
      "\n",
      "    accuracy                           0.78       179\n",
      "   macro avg       0.77      0.75      0.75       179\n",
      "weighted avg       0.78      0.78      0.77       179\n",
      "\n"
     ]
    }
   ],
   "source": [
    "knn = KNeighborsClassifier(n_neighbors=10)\n",
    "knn.fit(X_train, y_train)\n",
    "knn_predicted = knn.predict(X_test)\n",
    "knn_conf_matrix = confusion_matrix(y_test, knn_predicted)\n",
    "knn_acc_score = accuracy_score(y_test, knn_predicted)\n",
    "print(\"confussion matrix\")\n",
    "print(knn_conf_matrix)\n",
    "print(\"\\n\")\n",
    "print(\"Accuracy of K-NeighborsClassifier:\",knn_acc_score*100,'\\n')\n",
    "print(classification_report(y_test,knn_predicted))"
   ]
  },
  {
   "cell_type": "code",
   "execution_count": 48,
   "id": "b36ffd05",
   "metadata": {},
   "outputs": [
    {
     "data": {
      "text/plain": [
       "Text(15.0, 0.5, 'Truth')"
      ]
     },
     "execution_count": 48,
     "metadata": {},
     "output_type": "execute_result"
    },
    {
     "data": {
      "image/png": "[encoded data removed]",
      "text/plain": [
       "<Figure size 288x144 with 2 Axes>"
      ]
     },
     "metadata": {
      "needs_background": "light"
     },
     "output_type": "display_data"
    }
   ],
   "source": [
    "plt.figure(figsize=(4,2))\n",
    "sns.heatmap(knn_conf_matrix, annot=True)\n",
    "plt.xlabel('Predicted')\n",
    "plt.ylabel('Truth')"
   ]
  },
  {
   "cell_type": "markdown",
   "id": "87753550",
   "metadata": {},
   "source": [
    "With DecisionTreeClassifier"
   ]
  },
  {
   "cell_type": "code",
   "execution_count": 50,
   "id": "cf78c63f",
   "metadata": {},
   "outputs": [
    {
     "name": "stdout",
     "output_type": "stream",
     "text": [
      "confussion matrix\n",
      "[[98 12]\n",
      " [20 49]]\n",
      "\n",
      "\n",
      "Accuracy of DecisionTreeClassifier: 82.12290502793296 \n",
      "\n",
      "              precision    recall  f1-score   support\n",
      "\n",
      "           0       0.83      0.89      0.86       110\n",
      "           1       0.80      0.71      0.75        69\n",
      "\n",
      "    accuracy                           0.82       179\n",
      "   macro avg       0.82      0.80      0.81       179\n",
      "weighted avg       0.82      0.82      0.82       179\n",
      "\n"
     ]
    }
   ],
   "source": [
    "dt = DecisionTreeClassifier(criterion = 'entropy',random_state=0,max_depth = 6)\n",
    "dt.fit(X_train, y_train)\n",
    "dt_predicted = dt.predict(X_test)\n",
    "dt_conf_matrix = confusion_matrix(y_test, dt_predicted)\n",
    "dt_acc_score = accuracy_score(y_test, dt_predicted)\n",
    "print(\"confussion matrix\")\n",
    "print(dt_conf_matrix)\n",
    "print(\"\\n\")\n",
    "print(\"Accuracy of DecisionTreeClassifier:\",dt_acc_score*100,'\\n')\n",
    "print(classification_report(y_test,dt_predicted))"
   ]
  },
  {
   "cell_type": "markdown",
   "id": "65c0bd40",
   "metadata": {},
   "source": [
    "WITH HEATMAP BETTER VISUALIZATION"
   ]
  },
  {
   "cell_type": "code",
   "execution_count": 51,
   "id": "eb2f914d",
   "metadata": {},
   "outputs": [
    {
     "data": {
      "text/plain": [
       "Text(15.0, 0.5, 'Truth')"
      ]
     },
     "execution_count": 51,
     "metadata": {},
     "output_type": "execute_result"
    },
    {
     "data": {
      "image/png": "[encoded data removed]",
      "text/plain": [
       "<Figure size 288x144 with 2 Axes>"
      ]
     },
     "metadata": {
      "needs_background": "light"
     },
     "output_type": "display_data"
    }
   ],
   "source": [
    "plt.figure(figsize=(4,2))\n",
    "sns.heatmap(dt_conf_matrix, annot=True)\n",
    "plt.xlabel('Predicted')\n",
    "plt.ylabel('Truth')"
   ]
  },
  {
   "cell_type": "markdown",
   "id": "cfb30544",
   "metadata": {},
   "source": [
    "With Support Vector Classifier"
   ]
  },
  {
   "cell_type": "code",
   "execution_count": 52,
   "id": "b3288476",
   "metadata": {},
   "outputs": [
    {
     "name": "stdout",
     "output_type": "stream",
     "text": [
      "confussion matrix\n",
      "[[96 14]\n",
      " [20 49]]\n",
      "\n",
      "\n",
      "Accuracy of Support Vector Classifier: 81.00558659217877 \n",
      "\n",
      "              precision    recall  f1-score   support\n",
      "\n",
      "           0       0.83      0.87      0.85       110\n",
      "           1       0.78      0.71      0.74        69\n",
      "\n",
      "    accuracy                           0.81       179\n",
      "   macro avg       0.80      0.79      0.80       179\n",
      "weighted avg       0.81      0.81      0.81       179\n",
      "\n"
     ]
    }
   ],
   "source": [
    "svc =  SVC(kernel='rbf', C=2)\n",
    "svc.fit(X_train, y_train)\n",
    "svc_predicted = svc.predict(X_test)\n",
    "svc_conf_matrix = confusion_matrix(y_test, svc_predicted)\n",
    "svc_acc_score = accuracy_score(y_test, svc_predicted)\n",
    "print(\"confussion matrix\")\n",
    "print(svc_conf_matrix)\n",
    "print(\"\\n\")\n",
    "print(\"Accuracy of Support Vector Classifier:\",svc_acc_score*100,'\\n')\n",
    "print(classification_report(y_test,svc_predicted))"
   ]
  },
  {
   "cell_type": "markdown",
   "id": "9ac18cce",
   "metadata": {},
   "source": [
    "WITH HEATMAP BETTER VISUALIZATION"
   ]
  },
  {
   "cell_type": "code",
   "execution_count": 53,
   "id": "f9b78d27",
   "metadata": {},
   "outputs": [
    {
     "data": {
      "text/plain": [
       "Text(15.0, 0.5, 'Truth')"
      ]
     },
     "execution_count": 53,
     "metadata": {},
     "output_type": "execute_result"
    },
    {
     "data": {
      "image/png": "[encoded data removed]",
      "text/plain": [
       "<Figure size 288x144 with 2 Axes>"
      ]
     },
     "metadata": {
      "needs_background": "light"
     },
     "output_type": "display_data"
    }
   ],
   "source": [
    "plt.figure(figsize=(4,2))\n",
    "sns.heatmap(svc_conf_matrix, annot=True)\n",
    "plt.xlabel('Predicted')\n",
    "plt.ylabel('Truth')"
   ]
  },
  {
   "cell_type": "code",
   "execution_count": 55,
   "id": "308ffd9b",
   "metadata": {},
   "outputs": [
    {
     "data": {
      "image/png": "[encoded data removed]",
      "text/plain": [
       "<Figure size 720x288 with 1 Axes>"
      ]
     },
     "metadata": {
      "needs_background": "light"
     },
     "output_type": "display_data"
    }
   ],
   "source": [
    "imp_feature = pd.DataFrame({'Feature': ['Pclass','Sex','Age','Fare'], 'Importance': xgb.feature_importances_})\n",
    "plt.figure(figsize=(10,4))\n",
    "plt.title(\"barplot Represent feature importance \")\n",
    "plt.xlabel(\"importance \")\n",
    "plt.ylabel(\"features\")\n",
    "plt.barh(imp_feature['Feature'],imp_feature['Importance'],color = 'red')\n",
    "plt.show()"
   ]
  },
  {
   "cell_type": "code",
   "execution_count": null,
   "id": "353d464e",
   "metadata": {},
   "outputs": [],
   "source": []
  }
 ],
 "metadata": {
  "kernelspec": {
   "display_name": "Python 3 (ipykernel)",
   "language": "python",
   "name": "python3"
  },
  "language_info": {
   "codemirror_mode": {
    "name": "ipython",
    "version": 3
   },
   "file_extension": ".py",
   "mimetype": "text/x-python",
   "name": "python",
   "nbconvert_exporter": "python",
   "pygments_lexer": "ipython3",
   "version": "3.9.7"
  },
  "toc": {
   "base_numbering": 1,
   "nav_menu": {},
   "number_sections": true,
   "sideBar": true,
   "skip_h1_title": false,
   "title_cell": "Table of Contents",
   "title_sidebar": "Contents",
   "toc_cell": false,
   "toc_position": {},
   "toc_section_display": true,
   "toc_window_display": false
  }
 },
 "nbformat": 4,
 "nbformat_minor": 5
}
